{
  "nbformat": 4,
  "nbformat_minor": 0,
  "metadata": {
    "colab": {
      "provenance": []
    },
    "kernelspec": {
      "name": "python3",
      "display_name": "Python 3"
    },
    "language_info": {
      "name": "python"
    }
  },
  "cells": [
    {
      "cell_type": "code",
      "source": [
        "# Impor Library yang diperlukan\n",
        "import pandas as pd\n",
        "from sklearn.metrics.pairwise import cosine_similarity\n",
        "from sklearn.feature_extraction.text import CountVectorizer"
      ],
      "metadata": {
        "id": "6ryn3k3IBkaz"
      },
      "execution_count": 1,
      "outputs": []
    },
    {
      "cell_type": "code",
      "source": [
        "# Mengambil data dari file CSV\n",
        "movies = pd.read_csv('movies.csv')\n",
        "ratings = pd.read_csv('data.csv')"
      ],
      "metadata": {
        "id": "RX9GiPE4By_j"
      },
      "execution_count": 3,
      "outputs": []
    },
    {
      "cell_type": "code",
      "source": [
        "# Menghitung rating rata-rata untuk setiap film\n",
        "average_ratings = ratings.groupby('movieId')['rating'].mean().reset_index()\n",
        "average_ratings.columns = ['movieId', 'average_rating']"
      ],
      "metadata": {
        "id": "yAgk455DB55V"
      },
      "execution_count": 4,
      "outputs": []
    },
    {
      "cell_type": "code",
      "source": [
        "# Menggabungkan rating rata-rata dengan data movies\n",
        "movies = pd.merge(movies, average_ratings, on='movieId')"
      ],
      "metadata": {
        "id": "8fQKsSOEB87Y"
      },
      "execution_count": 5,
      "outputs": []
    },
    {
      "cell_type": "code",
      "source": [
        "# Membuat model rekomendasi\n",
        "count_vectorizer = CountVectorizer(stop_words='english')\n",
        "count_matrix = count_vectorizer.fit_transform(movies['genres'])\n",
        "cosine_sim = cosine_similarity(count_matrix, count_matrix)"
      ],
      "metadata": {
        "id": "2op8ZqfmCEzL"
      },
      "execution_count": 6,
      "outputs": []
    },
    {
      "cell_type": "code",
      "source": [
        "# Fungsi untuk merekomendasikan film\n",
        "def get_recommendations(title, cosine_sim=cosine_sim):\n",
        "    idx = movies[movies['title'] == title].index[0]\n",
        "    sim_scores = list(enumerate(cosine_sim[idx]))\n",
        "    sim_scores = sorted(sim_scores, key=lambda x: x[1], reverse=True)\n",
        "    sim_scores = sim_scores[1:11]\n",
        "    movie_indices = [i[0] for i in sim_scores]\n",
        "    recommendations = movies[['title', 'average_rating']].iloc[movie_indices]\n",
        "    return recommendations"
      ],
      "metadata": {
        "id": "zuH5WsZHCHTW"
      },
      "execution_count": 7,
      "outputs": []
    },
    {
      "cell_type": "code",
      "source": [
        "# Contoh\n",
        "recommendations = get_recommendations('Toy Story (1995)')\n",
        "print(recommendations)"
      ],
      "metadata": {
        "colab": {
          "base_uri": "https://localhost:8080/"
        },
        "id": "woXzpNO8CKpI",
        "outputId": "2c8eaa79-9fd1-46b7-e776-671b8ca1e82b"
      },
      "execution_count": 8,
      "outputs": [
        {
          "output_type": "stream",
          "name": "stdout",
          "text": [
            "                                                  title  average_rating\n",
            "1705                                        Antz (1998)        3.244444\n",
            "2353                                 Toy Story 2 (1999)        3.860825\n",
            "2805     Adventures of Rocky and Bullwinkle, The (2000)        2.222222\n",
            "2996                   Emperor's New Groove, The (2000)        3.716216\n",
            "3563                              Monsters, Inc. (2001)        3.871212\n",
            "6177                                   Wild, The (2006)        2.500000\n",
            "6469                             Shrek the Third (2007)        3.023810\n",
            "6931                     Tale of Despereaux, The (2008)        3.000000\n",
            "7742  Asterix and the Vikings (Astérix et les Viking...        5.000000\n",
            "8201                                       Turbo (2013)        2.500000\n"
          ]
        }
      ]
    }
  ]
}